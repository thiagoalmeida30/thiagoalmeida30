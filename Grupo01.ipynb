{
  "nbformat": 4,
  "nbformat_minor": 0,
  "metadata": {
    "colab": {
      "name": "Grupo01.ipynb",
      "provenance": [],
      "collapsed_sections": [],
      "include_colab_link": true
    },
    "kernelspec": {
      "name": "python3",
      "display_name": "Python 3"
    },
    "language_info": {
      "name": "python"
    }
  },
  "cells": [
    {
      "cell_type": "markdown",
      "metadata": {
        "id": "view-in-github",
        "colab_type": "text"
      },
      "source": [
        "<a href=\"https://colab.research.google.com/github/thiagoalmeida30/thiagoalmeida30/blob/main/Grupo01.ipynb\" target=\"_parent\"><img src=\"https://colab.research.google.com/assets/colab-badge.svg\" alt=\"Open In Colab\"/></a>"
      ]
    },
    {
      "cell_type": "code",
      "metadata": {
        "id": "V4sB5nZ2IWJE"
      },
      "source": [
        "class Produto:\n",
        "  \"\"\"\n",
        "  params\n",
        "  id_produto: chave primaria que identifica o produto\n",
        "  nome: nome fantasia do produto\n",
        "  descricao: descricao generica\n",
        "  valor: float\n",
        "  \"\"\"\n",
        "  def __init__(self, id_produto:str, nome:str, descricao:str, valor:float):\n",
        "    self.id_produto = id_produto\n",
        "    self.nome = nome\n",
        "    self.descricao = descricao\n",
        "    self.valor = valor\n",
        "    print(\"Produto inicializado com sucesso\")"
      ],
      "execution_count": null,
      "outputs": []
    },
    {
      "cell_type": "code",
      "metadata": {
        "id": "NhNk4LQ6N5DY"
      },
      "source": [
        "class ProdutoBebida(Produto):\n",
        "  \"\"\"\n",
        "  params\n",
        "  produto: objeto da classe produto\n",
        "  nivel_alcolico: porcentagem do teor alcoolico\n",
        "  \"\"\"\n",
        "  def __init__(self, produto:Produto, nivel_alcolico:float):\n",
        "    super().__init__(produto.id_produto, produto.nome, produto.descricao, produto.valor)\n",
        "    self.nivel_alcolico = nivel_alcolico\n",
        "    print(\"Produto bebida inicializado com sucesso\")"
      ],
      "execution_count": null,
      "outputs": []
    },
    {
      "cell_type": "code",
      "metadata": {
        "id": "BGZ_nXxfJ2Py"
      },
      "source": [
        "class Pedido:\n",
        "  \"\"\"\n",
        "  params\n",
        "  id_pedido: chave primaria que identifica o pedido\n",
        "  valor_total: soma dos itens do pedido\n",
        "  status_pedido: true ativo, false inativo (cancelado ou entregue)\n",
        "  \"\"\"\n",
        "  def __init__(self, id_pedido:str, valor_total:float, status_pedido:bool):\n",
        "    self.id_pedido = id_pedido\n",
        "    self.valor_total = valor_total\n",
        "    self.status_pedido = status_pedido\n",
        "    self.produtos = []\n",
        "    print(\"Pedido inicializado com sucesso\")\n",
        "\n",
        "  def adiciona_produto(self, produto):\n",
        "    self.produtos.append(produto)\n",
        "    print(\"Produto adicionado ao pedido com sucesso\")\n",
        "\n",
        "  def remover_produto(self, id_produto):\n",
        "    try:  \n",
        "      if self.produtos == [] or self.produtos is None:\n",
        "        raise ProdutosVazio()\n",
        "    except ProdutosVazio:\n",
        "      print(\"Nao ha produtos a serem removidos\")\n",
        "    for produto in self.produtos:\n",
        "      if produto.id_produto == id_produto:\n",
        "        self.produtos.remove(produto)\n",
        "        break\n",
        "    print(\"Produto removido ao pedido com sucesso\")\n",
        "\n",
        "  def valor_pedido(self):\n",
        "    total = 0\n",
        "    for produto in self.produtos:\n",
        "      total += produto.valor\n",
        "    print(\"Valor total\", total)\n",
        "    return total"
      ],
      "execution_count": null,
      "outputs": []
    },
    {
      "cell_type": "code",
      "metadata": {
        "id": "vOTDl19Ipdjb"
      },
      "source": [
        "class ProdutosVazio(Exception):\n",
        "    pass"
      ],
      "execution_count": null,
      "outputs": []
    },
    {
      "cell_type": "code",
      "metadata": {
        "colab": {
          "base_uri": "https://localhost:8080/"
        },
        "id": "tmZTUgI2SaQ2",
        "outputId": "e01c4203-de9d-43ea-a02c-272bb8e6e6a3"
      },
      "source": [
        "produto1 = Produto(\"PO1234\", \"Velho Barreiro\", \"melhor agua do Brasil\", 30.00)\n",
        "velho_barreiro = ProdutoBebida(produto1, \"14\")\n",
        "arroz = Produto(\"PO7899\", \"Arroz Tio João\", \"Arroz sem pedra, nem precisa lavar\", 15.00)\n",
        "\n",
        "pedidoJoaquim = Pedido(\"PE8574\", 0, True)\n",
        "pedidoJoaquim.adiciona_produto(velho_barreiro)\n",
        "pedidoJoaquim.adiciona_produto(arroz)\n",
        "pedidoJoaquim.valor_pedido()\n",
        "print(len(pedido1.produtos))\n",
        "\n",
        "pedidoJoaquim.remover_produto(arroz.id_produto)\n",
        "print(len(pedido1.produtos))\n",
        "pedidoJoaquim.remover_produto(velho_barreiro.id_produto)\n",
        "pedidoJoaquim.valor_pedido()\n",
        "print(len(pedido1.produtos))\n",
        "\n",
        "pedidoJoaquim.remover_produto(velho_barreiro.id_produto)\n",
        "\n"
      ],
      "execution_count": null,
      "outputs": [
        {
          "output_type": "stream",
          "text": [
            "Produto inicializado com sucesso\n",
            "Produto inicializado com sucesso\n",
            "Produto bebida inicializado com sucesso\n",
            "Produto inicializado com sucesso\n",
            "Pedido inicializado com sucesso\n",
            "Produto adicionado ao pedido com sucesso\n",
            "Produto adicionado ao pedido com sucesso\n",
            "Valor total 45.0\n",
            "1\n",
            "Produto removido ao pedido com sucesso\n",
            "1\n",
            "Produto removido ao pedido com sucesso\n",
            "Valor total 0\n",
            "1\n",
            "Nao ha produtos a serem removidos\n",
            "Produto removido ao pedido com sucesso\n"
          ],
          "name": "stdout"
        }
      ]
    }
  ]
}